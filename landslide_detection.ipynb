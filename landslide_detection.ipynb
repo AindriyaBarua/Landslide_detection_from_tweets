{
 "cells": [
  {
   "cell_type": "code",
   "execution_count": 1,
   "metadata": {},
   "outputs": [
    {
     "name": "stderr",
     "output_type": "stream",
     "text": [
      "Using TensorFlow backend.\n"
     ]
    }
   ],
   "source": [
    "import numpy as np \n",
    "import pandas as pd\n",
    "from keras.preprocessing.text import Tokenizer\n",
    "from keras.preprocessing.sequence import pad_sequences #pad_sequences is used to ensure that all sequences in a list have the same length. By default this is done by padding 0 in the beginning of each sequence until each sequence has the same length as the longest sequence.\n",
    "from keras.models import Sequential\n",
    "from keras.layers import Dense, Embedding, LSTM, SimpleRNN\n",
    "from sklearn.model_selection import train_test_split\n",
    "from sklearn import preprocessing\n",
    "from keras.utils.np_utils import to_categorical  #to convert an integer label into a vector \n",
    "import re #to use regular expression. Regular expressions are usually used for string matching\n",
    "from nltk.corpus import stopwords\n",
    "from nltk.tokenize import word_tokenize, sent_tokenize\n",
    "import glob\n",
    "from nltk.text import Text\n",
    "%matplotlib inline"
   ]
  },
  {
   "cell_type": "code",
   "execution_count": 2,
   "metadata": {},
   "outputs": [
    {
     "name": "stderr",
     "output_type": "stream",
     "text": [
      "b'Skipping line 15856: expected 2 fields, saw 3\\n'\n"
     ]
    }
   ],
   "source": [
    "data = pd.read_csv('landslides.csv', error_bad_lines=False)"
   ]
  },
  {
   "cell_type": "code",
   "execution_count": 3,
   "metadata": {},
   "outputs": [],
   "source": [
    "#data2=pd.read_csv('earthquake.csv')\n",
    "#data=data.append(data2)"
   ]
  },
  {
   "cell_type": "code",
   "execution_count": 4,
   "metadata": {},
   "outputs": [
    {
     "data": {
      "text/plain": [
       "33957"
      ]
     },
     "execution_count": 4,
     "metadata": {},
     "output_type": "execute_result"
    }
   ],
   "source": [
    "len(data)"
   ]
  },
  {
   "cell_type": "code",
   "execution_count": 5,
   "metadata": {},
   "outputs": [
    {
     "data": {
      "text/html": [
       "<div>\n",
       "<style scoped>\n",
       "    .dataframe tbody tr th:only-of-type {\n",
       "        vertical-align: middle;\n",
       "    }\n",
       "\n",
       "    .dataframe tbody tr th {\n",
       "        vertical-align: top;\n",
       "    }\n",
       "\n",
       "    .dataframe thead th {\n",
       "        text-align: right;\n",
       "    }\n",
       "</style>\n",
       "<table border=\"1\" class=\"dataframe\">\n",
       "  <thead>\n",
       "    <tr style=\"text-align: right;\">\n",
       "      <th></th>\n",
       "      <th>text</th>\n",
       "      <th>label</th>\n",
       "    </tr>\n",
       "  </thead>\n",
       "  <tbody>\n",
       "    <tr>\n",
       "      <th>0</th>\n",
       "      <td>@ms_landslide absolument ! :)</td>\n",
       "      <td>NONE</td>\n",
       "    </tr>\n",
       "    <tr>\n",
       "      <th>1</th>\n",
       "      <td>Someday you will find me caught beneath the la...</td>\n",
       "      <td>NONE</td>\n",
       "    </tr>\n",
       "    <tr>\n",
       "      <th>2</th>\n",
       "      <td>@SportsComm25 nope Howard is leaving probably ...</td>\n",
       "      <td>NONE</td>\n",
       "    </tr>\n",
       "    <tr>\n",
       "      <th>3</th>\n",
       "      <td>Landslide by Fleetwood Mac came on the radio o...</td>\n",
       "      <td>NONE</td>\n",
       "    </tr>\n",
       "    <tr>\n",
       "      <th>4</th>\n",
       "      <td>When ever I hear the song landslide I think of...</td>\n",
       "      <td>NONE</td>\n",
       "    </tr>\n",
       "    <tr>\n",
       "      <th>5</th>\n",
       "      <td>@AwesomeStiffler @JoseCanseco @AROD best tweet...</td>\n",
       "      <td>NONE</td>\n",
       "    </tr>\n",
       "    <tr>\n",
       "      <th>6</th>\n",
       "      <td>An American girl in my group got up for cultur...</td>\n",
       "      <td>NONE</td>\n",
       "    </tr>\n",
       "    <tr>\n",
       "      <th>7</th>\n",
       "      <td>Someday you will find me caught beneath the la...</td>\n",
       "      <td>NONE</td>\n",
       "    </tr>\n",
       "    <tr>\n",
       "      <th>8</th>\n",
       "      <td>@dcox21 Sorry. I just said Stevie Nicks becaus...</td>\n",
       "      <td>NONE</td>\n",
       "    </tr>\n",
       "    <tr>\n",
       "      <th>9</th>\n",
       "      <td>Is this the real life? Is this just fantasy? C...</td>\n",
       "      <td>NONE</td>\n",
       "    </tr>\n",
       "    <tr>\n",
       "      <th>10</th>\n",
       "      <td>Someday you will find me caught beneath the la...</td>\n",
       "      <td>NONE</td>\n",
       "    </tr>\n",
       "    <tr>\n",
       "      <th>11</th>\n",
       "      <td>@DarrylThinks by a landslide!!</td>\n",
       "      <td>NONE</td>\n",
       "    </tr>\n",
       "    <tr>\n",
       "      <th>12</th>\n",
       "      <td>I learned how to play landslide on guitar.</td>\n",
       "      <td>NONE</td>\n",
       "    </tr>\n",
       "    <tr>\n",
       "      <th>13</th>\n",
       "      <td>Someday you\\\\'ll find me caught beneath the la...</td>\n",
       "      <td>NONE</td>\n",
       "    </tr>\n",
       "    <tr>\n",
       "      <th>14</th>\n",
       "      <td>Some day you will find me caught beneath the l...</td>\n",
       "      <td>NONE</td>\n",
       "    </tr>\n",
       "    <tr>\n",
       "      <th>15</th>\n",
       "      <td>Landslide - Fleetwood Mac #NoseGuitar #6second...</td>\n",
       "      <td>NONE</td>\n",
       "    </tr>\n",
       "    <tr>\n",
       "      <th>16</th>\n",
       "      <td>nothing really compares to blasting landslide ...</td>\n",
       "      <td>NONE</td>\n",
       "    </tr>\n",
       "    <tr>\n",
       "      <th>17</th>\n",
       "      <td>\\\\But time makes you bolder children get older...</td>\n",
       "      <td>NONE</td>\n",
       "    </tr>\n",
       "    <tr>\n",
       "      <th>18</th>\n",
       "      <td>\\u00e3\\u20ac\\u0090WSJ News\\u00e3\\u20ac\\u2018 U...</td>\n",
       "      <td>NONE</td>\n",
       "    </tr>\n",
       "    <tr>\n",
       "      <th>19</th>\n",
       "      <td>landslide will forever be one of my favorite s...</td>\n",
       "      <td>NONE</td>\n",
       "    </tr>\n",
       "    <tr>\n",
       "      <th>20</th>\n",
       "      <td>@MichaelHefta landslide election. Because he h...</td>\n",
       "      <td>NONE</td>\n",
       "    </tr>\n",
       "    <tr>\n",
       "      <th>21</th>\n",
       "      <td>Wholly no such thing landslide victory secret ...</td>\n",
       "      <td>NONE</td>\n",
       "    </tr>\n",
       "    <tr>\n",
       "      <th>22</th>\n",
       "      <td>I\\\\'m winning by a landslide \\u00f0\\u0178\\u02d...</td>\n",
       "      <td>NONE</td>\n",
       "    </tr>\n",
       "    <tr>\n",
       "      <th>23</th>\n",
       "      <td>Can\\\\'t go to sleep so I\\\\'m listening to musi...</td>\n",
       "      <td>NONE</td>\n",
       "    </tr>\n",
       "    <tr>\n",
       "      <th>24</th>\n",
       "      <td>Landslide Cover feat. Missglamorazzi Jimmy Won...</td>\n",
       "      <td>NONE</td>\n",
       "    </tr>\n",
       "    <tr>\n",
       "      <th>25</th>\n",
       "      <td>There are times in my life when I feel like I ...</td>\n",
       "      <td>NONE</td>\n",
       "    </tr>\n",
       "    <tr>\n",
       "      <th>26</th>\n",
       "      <td>---&amp;gt; RT @Sisi_Sasha: Congrats to Mugabe on ...</td>\n",
       "      <td>NONE</td>\n",
       "    </tr>\n",
       "    <tr>\n",
       "      <th>27</th>\n",
       "      <td>Congrats to Mugabe on another landslide victory.</td>\n",
       "      <td>NONE</td>\n",
       "    </tr>\n",
       "    <tr>\n",
       "      <th>28</th>\n",
       "      <td>Well there\\\\'s a turn up! Robert Mugabe claims...</td>\n",
       "      <td>NONE</td>\n",
       "    </tr>\n",
       "    <tr>\n",
       "      <th>29</th>\n",
       "      <td>Reuters: Mugabe claims landslide victory in Zi...</td>\n",
       "      <td>NONE</td>\n",
       "    </tr>\n",
       "    <tr>\n",
       "      <th>...</th>\n",
       "      <td>...</td>\n",
       "      <td>...</td>\n",
       "    </tr>\n",
       "    <tr>\n",
       "      <th>470</th>\n",
       "      <td>@ladiosabri @FangirlKelly @imcorinnemec @solst...</td>\n",
       "      <td>NONE</td>\n",
       "    </tr>\n",
       "    <tr>\n",
       "      <th>471</th>\n",
       "      <td>Early Morning Hustle and we winning by a lands...</td>\n",
       "      <td>NONE</td>\n",
       "    </tr>\n",
       "    <tr>\n",
       "      <th>472</th>\n",
       "      <td>Zimbabwe protests weighed after Mugabe landsli...</td>\n",
       "      <td>NONE</td>\n",
       "    </tr>\n",
       "    <tr>\n",
       "      <th>473</th>\n",
       "      <td>Landslide by Fleetwood Mac will forever be one...</td>\n",
       "      <td>NONE</td>\n",
       "    </tr>\n",
       "    <tr>\n",
       "      <th>474</th>\n",
       "      <td>\\\\Is this the real life?\\\\nIs this just fantas...</td>\n",
       "      <td>NONE</td>\n",
       "    </tr>\n",
       "    <tr>\n",
       "      <th>475</th>\n",
       "      <td>Landslide by Lindsey Buckingham &amp;amp; Stevie N...</td>\n",
       "      <td>NONE</td>\n",
       "    </tr>\n",
       "    <tr>\n",
       "      <th>476</th>\n",
       "      <td>@brianlogandales or is it just fantasy\\\\n\\\\nca...</td>\n",
       "      <td>NONE</td>\n",
       "    </tr>\n",
       "    <tr>\n",
       "      <th>477</th>\n",
       "      <td>@brianlogandales is this just fantasy? caught ...</td>\n",
       "      <td>NONE</td>\n",
       "    </tr>\n",
       "    <tr>\n",
       "      <th>478</th>\n",
       "      <td>Some day you will find me caught beneath the l...</td>\n",
       "      <td>NONE</td>\n",
       "    </tr>\n",
       "    <tr>\n",
       "      <th>479</th>\n",
       "      <td>Morgan Tsvangarai should concede defeat and  q...</td>\n",
       "      <td>NONE</td>\n",
       "    </tr>\n",
       "    <tr>\n",
       "      <th>480</th>\n",
       "      <td>Good song!!!!!! [- The Smashing Pumpkins - Lan...</td>\n",
       "      <td>NONE</td>\n",
       "    </tr>\n",
       "    <tr>\n",
       "      <th>481</th>\n",
       "      <td>The Times of India - India - Mugabe poll lands...</td>\n",
       "      <td>NONE</td>\n",
       "    </tr>\n",
       "    <tr>\n",
       "      <th>482</th>\n",
       "      <td>@morpheus_uk @cancerbaby @metronome_ @ironc0re...</td>\n",
       "      <td>NONE</td>\n",
       "    </tr>\n",
       "    <tr>\n",
       "      <th>483</th>\n",
       "      <td>@LowriRhiannon @guardiannews how about \\\\Natio...</td>\n",
       "      <td>NONE</td>\n",
       "    </tr>\n",
       "    <tr>\n",
       "      <th>484</th>\n",
       "      <td>President Mugabe\\\\'s apparent landslide electi...</td>\n",
       "      <td>NONE</td>\n",
       "    </tr>\n",
       "    <tr>\n",
       "      <th>485</th>\n",
       "      <td>Fears for Zimbabwe economy after Mugabe...: Ro...</td>\n",
       "      <td>NONE</td>\n",
       "    </tr>\n",
       "    <tr>\n",
       "      <th>486</th>\n",
       "      <td>Our TV package by @nomsa_maseko on allegations...</td>\n",
       "      <td>NONE</td>\n",
       "    </tr>\n",
       "    <tr>\n",
       "      <th>487</th>\n",
       "      <td>Is this the real life?\\\\nIs this just fantasy?...</td>\n",
       "      <td>NONE</td>\n",
       "    </tr>\n",
       "    <tr>\n",
       "      <th>488</th>\n",
       "      <td>@NigeriaNewsdesk Mugabe\\\\'s landslide??? Shows...</td>\n",
       "      <td>NONE</td>\n",
       "    </tr>\n",
       "    <tr>\n",
       "      <th>489</th>\n",
       "      <td>so mugabe won landslide in #ZimbabweElections ...</td>\n",
       "      <td>NONE</td>\n",
       "    </tr>\n",
       "    <tr>\n",
       "      <th>490</th>\n",
       "      <td>This Monday we will be celebrating elections l...</td>\n",
       "      <td>NONE</td>\n",
       "    </tr>\n",
       "    <tr>\n",
       "      <th>491</th>\n",
       "      <td>Someday you will find meCaught beneath the lan...</td>\n",
       "      <td>NONE</td>\n",
       "    </tr>\n",
       "    <tr>\n",
       "      <th>492</th>\n",
       "      <td>Usiseme Mugabe sema landslide!\\\\nMDC what has ...</td>\n",
       "      <td>NONE</td>\n",
       "    </tr>\n",
       "    <tr>\n",
       "      <th>493</th>\n",
       "      <td>@SirNige @MsFuzzyhead @carienduplessis celebra...</td>\n",
       "      <td>NONE</td>\n",
       "    </tr>\n",
       "    <tr>\n",
       "      <th>494</th>\n",
       "      <td>\\\\@Murdcai: And I saw my reflection in the sno...</td>\n",
       "      <td>NONE</td>\n",
       "    </tr>\n",
       "    <tr>\n",
       "      <th>495</th>\n",
       "      <td>@OhMyRiivera Bah non voyons mdrr</td>\n",
       "      <td>NONE</td>\n",
       "    </tr>\n",
       "    <tr>\n",
       "      <th>496</th>\n",
       "      <td>@shaystergleek ON A LE TEMPS MDRRR</td>\n",
       "      <td>NONE</td>\n",
       "    </tr>\n",
       "    <tr>\n",
       "      <th>497</th>\n",
       "      <td>Robert Mugabe\\\\'s party has won a landslide el...</td>\n",
       "      <td>NONE</td>\n",
       "    </tr>\n",
       "    <tr>\n",
       "      <th>498</th>\n",
       "      <td>The latest Sound of The Ladies Podcast is out ...</td>\n",
       "      <td>NONE</td>\n",
       "    </tr>\n",
       "    <tr>\n",
       "      <th>499</th>\n",
       "      <td>Robert Mugabe\\\\'s party has won a landslide el...</td>\n",
       "      <td>NONE</td>\n",
       "    </tr>\n",
       "  </tbody>\n",
       "</table>\n",
       "<p>500 rows × 2 columns</p>\n",
       "</div>"
      ],
      "text/plain": [
       "                                                  text label\n",
       "0                        @ms_landslide absolument ! :)  NONE\n",
       "1    Someday you will find me caught beneath the la...  NONE\n",
       "2    @SportsComm25 nope Howard is leaving probably ...  NONE\n",
       "3    Landslide by Fleetwood Mac came on the radio o...  NONE\n",
       "4    When ever I hear the song landslide I think of...  NONE\n",
       "5    @AwesomeStiffler @JoseCanseco @AROD best tweet...  NONE\n",
       "6    An American girl in my group got up for cultur...  NONE\n",
       "7    Someday you will find me caught beneath the la...  NONE\n",
       "8    @dcox21 Sorry. I just said Stevie Nicks becaus...  NONE\n",
       "9    Is this the real life? Is this just fantasy? C...  NONE\n",
       "10   Someday you will find me caught beneath the la...  NONE\n",
       "11                      @DarrylThinks by a landslide!!  NONE\n",
       "12          I learned how to play landslide on guitar.  NONE\n",
       "13   Someday you\\\\'ll find me caught beneath the la...  NONE\n",
       "14   Some day you will find me caught beneath the l...  NONE\n",
       "15   Landslide - Fleetwood Mac #NoseGuitar #6second...  NONE\n",
       "16   nothing really compares to blasting landslide ...  NONE\n",
       "17   \\\\But time makes you bolder children get older...  NONE\n",
       "18   \\u00e3\\u20ac\\u0090WSJ News\\u00e3\\u20ac\\u2018 U...  NONE\n",
       "19   landslide will forever be one of my favorite s...  NONE\n",
       "20   @MichaelHefta landslide election. Because he h...  NONE\n",
       "21   Wholly no such thing landslide victory secret ...  NONE\n",
       "22   I\\\\'m winning by a landslide \\u00f0\\u0178\\u02d...  NONE\n",
       "23   Can\\\\'t go to sleep so I\\\\'m listening to musi...  NONE\n",
       "24   Landslide Cover feat. Missglamorazzi Jimmy Won...  NONE\n",
       "25   There are times in my life when I feel like I ...  NONE\n",
       "26   ---&gt; RT @Sisi_Sasha: Congrats to Mugabe on ...  NONE\n",
       "27    Congrats to Mugabe on another landslide victory.  NONE\n",
       "28   Well there\\\\'s a turn up! Robert Mugabe claims...  NONE\n",
       "29   Reuters: Mugabe claims landslide victory in Zi...  NONE\n",
       "..                                                 ...   ...\n",
       "470  @ladiosabri @FangirlKelly @imcorinnemec @solst...  NONE\n",
       "471  Early Morning Hustle and we winning by a lands...  NONE\n",
       "472  Zimbabwe protests weighed after Mugabe landsli...  NONE\n",
       "473  Landslide by Fleetwood Mac will forever be one...  NONE\n",
       "474  \\\\Is this the real life?\\\\nIs this just fantas...  NONE\n",
       "475  Landslide by Lindsey Buckingham &amp; Stevie N...  NONE\n",
       "476  @brianlogandales or is it just fantasy\\\\n\\\\nca...  NONE\n",
       "477  @brianlogandales is this just fantasy? caught ...  NONE\n",
       "478  Some day you will find me caught beneath the l...  NONE\n",
       "479  Morgan Tsvangarai should concede defeat and  q...  NONE\n",
       "480  Good song!!!!!! [- The Smashing Pumpkins - Lan...  NONE\n",
       "481  The Times of India - India - Mugabe poll lands...  NONE\n",
       "482  @morpheus_uk @cancerbaby @metronome_ @ironc0re...  NONE\n",
       "483  @LowriRhiannon @guardiannews how about \\\\Natio...  NONE\n",
       "484  President Mugabe\\\\'s apparent landslide electi...  NONE\n",
       "485  Fears for Zimbabwe economy after Mugabe...: Ro...  NONE\n",
       "486  Our TV package by @nomsa_maseko on allegations...  NONE\n",
       "487  Is this the real life?\\\\nIs this just fantasy?...  NONE\n",
       "488  @NigeriaNewsdesk Mugabe\\\\'s landslide??? Shows...  NONE\n",
       "489  so mugabe won landslide in #ZimbabweElections ...  NONE\n",
       "490  This Monday we will be celebrating elections l...  NONE\n",
       "491  Someday you will find meCaught beneath the lan...  NONE\n",
       "492  Usiseme Mugabe sema landslide!\\\\nMDC what has ...  NONE\n",
       "493  @SirNige @MsFuzzyhead @carienduplessis celebra...  NONE\n",
       "494  \\\\@Murdcai: And I saw my reflection in the sno...  NONE\n",
       "495                   @OhMyRiivera Bah non voyons mdrr  NONE\n",
       "496                 @shaystergleek ON A LE TEMPS MDRRR  NONE\n",
       "497  Robert Mugabe\\\\'s party has won a landslide el...  NONE\n",
       "498  The latest Sound of The Ladies Podcast is out ...  NONE\n",
       "499  Robert Mugabe\\\\'s party has won a landslide el...  NONE\n",
       "\n",
       "[500 rows x 2 columns]"
      ]
     },
     "execution_count": 5,
     "metadata": {},
     "output_type": "execute_result"
    }
   ],
   "source": [
    "data.head(500)"
   ]
  },
  {
   "cell_type": "code",
   "execution_count": 6,
   "metadata": {},
   "outputs": [
    {
     "data": {
      "text/plain": [
       "{'LANDSLIDE', 'NONE', nan}"
      ]
     },
     "execution_count": 6,
     "metadata": {},
     "output_type": "execute_result"
    }
   ],
   "source": [
    "set(data['label'])"
   ]
  },
  {
   "cell_type": "code",
   "execution_count": 7,
   "metadata": {},
   "outputs": [],
   "source": [
    "data1 = data[(data['label'] == 'LANDSLIDE')]\n",
    "data2=data[(data['label'] == 'NONE')]\n"
   ]
  },
  {
   "cell_type": "code",
   "execution_count": 8,
   "metadata": {},
   "outputs": [
    {
     "data": {
      "text/plain": [
       "13050"
      ]
     },
     "execution_count": 8,
     "metadata": {},
     "output_type": "execute_result"
    }
   ],
   "source": [
    "len(data1)"
   ]
  },
  {
   "cell_type": "code",
   "execution_count": 9,
   "metadata": {},
   "outputs": [
    {
     "data": {
      "text/plain": [
       "33957"
      ]
     },
     "execution_count": 9,
     "metadata": {},
     "output_type": "execute_result"
    }
   ],
   "source": [
    "len(data)"
   ]
  },
  {
   "cell_type": "code",
   "execution_count": 10,
   "metadata": {},
   "outputs": [
    {
     "data": {
      "text/plain": [
       "20906"
      ]
     },
     "execution_count": 10,
     "metadata": {},
     "output_type": "execute_result"
    }
   ],
   "source": [
    "len(data2)"
   ]
  },
  {
   "cell_type": "code",
   "execution_count": 11,
   "metadata": {},
   "outputs": [],
   "source": [
    "data=data1.append(data2)"
   ]
  },
  {
   "cell_type": "code",
   "execution_count": 12,
   "metadata": {},
   "outputs": [
    {
     "data": {
      "text/plain": [
       "33956"
      ]
     },
     "execution_count": 12,
     "metadata": {},
     "output_type": "execute_result"
    }
   ],
   "source": [
    "len(data)"
   ]
  },
  {
   "cell_type": "code",
   "execution_count": 13,
   "metadata": {},
   "outputs": [
    {
     "data": {
      "text/plain": [
       "{'LANDSLIDE', 'NONE'}"
      ]
     },
     "execution_count": 13,
     "metadata": {},
     "output_type": "execute_result"
    }
   ],
   "source": [
    "set(data['label'])"
   ]
  },
  {
   "cell_type": "code",
   "execution_count": 14,
   "metadata": {},
   "outputs": [
    {
     "name": "stdout",
     "output_type": "stream",
     "text": [
      "13050\n",
      "20906\n"
     ]
    }
   ],
   "source": [
    "print(len(data[data['label']=='LANDSLIDE']))\n",
    "print(len(data[data['label']=='NONE']))"
   ]
  },
  {
   "cell_type": "code",
   "execution_count": 15,
   "metadata": {},
   "outputs": [],
   "source": [
    "def tweet_to_words(raw_tweet):\n",
    "    letters_only = re.sub(\"[^a-zA-Z0-9]\", \" \",raw_tweet) \n",
    "    words = letters_only.lower().split()                             \n",
    "    stops = set(stopwords.words(\"english\"))                  \n",
    "    meaningful_words = [w for w in words if not w in stops] \n",
    "    return( \" \".join( meaningful_words )) "
   ]
  },
  {
   "cell_type": "code",
   "execution_count": 16,
   "metadata": {},
   "outputs": [],
   "source": [
    "data['text'] = data['text'].apply(lambda x: tweet_to_words(x))"
   ]
  },
  {
   "cell_type": "code",
   "execution_count": 17,
   "metadata": {},
   "outputs": [
    {
     "data": {
      "text/plain": [
       "127      damage severe flooding hit north georgia lands...\n",
       "189      dtn indonesia search ambon landslide victims c...\n",
       "239      landslide myanmar myanmar floods leave 33000 c...\n",
       "743      rt trowafoxg landslide indonesia kills four bu...\n",
       "748      landslide india uttarakhand floods u00e2 u20ac...\n",
       "779      landslide india 18228 cattle killed 20000 hect...\n",
       "783      landslide philippines ndrrmc update situationa...\n",
       "789      landslide disrupted road reopened se myanmar h...\n",
       "796      landslide disrupted road reopened se myanmar h...\n",
       "797      landslide disrupted road reopened se myanmar m...\n",
       "800      landslide india landslides claim nine lives ke...\n",
       "801      rt ugandawire 350 feared dead uganda landslide...\n",
       "802      350 feared dead uganda landslide news round mu...\n",
       "808      kochi august 5 nine people died several others...\n",
       "820      landslide idukki 15 killed several reported mi...\n",
       "822      landslide idukki 15 killed several reported mi...\n",
       "824      check suryaray landslide idukki 15 killed seve...\n",
       "829      landslide india india floods fears grow farmla...\n",
       "858      kerala trip ruined cuz landslide heavy rain fa...\n",
       "894      rain landslide kill 15 bury hundreds kerala u0...\n",
       "927      landslide india flood water recedes woes conti...\n",
       "928      landslide india flood toll rises seven bhojpur...\n",
       "943      kattappana thodupuzha raod blocked nroad washe...\n",
       "974      world news hunt gold said buried 19th century ...\n",
       "993      digging gold paraguay landslide blog http co 4...\n",
       "1008     digging gold paraguay landslide blog http co s...\n",
       "1012     amateur diggers seeking fabled gold cause majo...\n",
       "1076     16 ppl killed due landslide n flood couple fli...\n",
       "1205     southern philippines landslide flood claim 2 d...\n",
       "1330     madcap hunt gold triggers landslide paraguay h...\n",
       "                               ...                        \n",
       "33910    rt rtenews irish rail says bus transfers water...\n",
       "33911    landslide victory arizona wildcats defeated bo...\n",
       "33913    rt katyperry john katy write getting stevie ni...\n",
       "33917    xenocryptsite rs landslide bigger 1894 gained ...\n",
       "33919    rt katyperry john katy write getting stevie ni...\n",
       "33920    rt katyperry john katy write getting stevie ni...\n",
       "33922    rt katyperry john katy write getting stevie ni...\n",
       "33923    rt katyperry john katy write getting stevie ni...\n",
       "33924    rt katyperry john katy write getting stevie ni...\n",
       "33926    music entertainment stevie nicks dedicates lan...\n",
       "33927    rt katyperry john katy write getting stevie ni...\n",
       "33930    rt rtenews irish rail says bus transfers water...\n",
       "33931    rt irishrail bus transfers waterford amp kilke...\n",
       "33933    rt kris sacrebleu u201c truthfulorator liberal...\n",
       "33936    rt katyperry john katy write getting stevie ni...\n",
       "33939    rt independent ie breaking landslides thomasto...\n",
       "33940    rt katyperry john katy write getting stevie ni...\n",
       "33941    rt katyperry john katy write getting stevie ni...\n",
       "33943    rt kris sacrebleu u201c truthfulorator liberal...\n",
       "33944    rt katyperry john katy write getting stevie ni...\n",
       "33945    fashion songwriter stevie nicks dedicates land...\n",
       "33946    stevie nicks dedicates landslide katy perry jo...\n",
       "33948    rt katyperry john katy write getting stevie ni...\n",
       "33949    happy new year poll 67806 respondents 65 count...\n",
       "33950    rt katyperry john katy write getting stevie ni...\n",
       "33951          2013 pregnancy mudslide mynewbegining u2661\n",
       "33952    rt katyperry john katy write getting stevie ni...\n",
       "33953    kicking new years eve baileys mudslides festiv...\n",
       "33954          first new years drink tonight mudslide fire\n",
       "33955    nye thepalazzo thevenetian happynewyear mudsli...\n",
       "Name: text, Length: 33956, dtype: object"
      ]
     },
     "execution_count": 17,
     "metadata": {},
     "output_type": "execute_result"
    }
   ],
   "source": [
    "data['text']"
   ]
  },
  {
   "cell_type": "code",
   "execution_count": 18,
   "metadata": {},
   "outputs": [],
   "source": [
    "for i in range(len(data)):\n",
    "    data['text'][i] = data['text'][i].replace('rt ','')"
   ]
  },
  {
   "cell_type": "code",
   "execution_count": 85,
   "metadata": {},
   "outputs": [],
   "source": [
    "from nltk.tokenize import TweetTokenizer\n",
    "tknzr = TweetTokenizer()\n",
    "tok_data=[]\n",
    "for row in data['text']:\n",
    "    tok_data.append(tknzr.tokenize(row))"
   ]
  },
  {
   "cell_type": "code",
   "execution_count": 89,
   "metadata": {},
   "outputs": [],
   "source": [
    "tokens=[]\n",
    "for r in tok_data:\n",
    "    for w in r:\n",
    "        tokens.append(w)"
   ]
  },
  {
   "cell_type": "code",
   "execution_count": 90,
   "metadata": {},
   "outputs": [
    {
     "data": {
      "image/png": "[encoded data removed]",
      "text/plain": [
       "<Figure size 432x288 with 1 Axes>"
      ]
     },
     "metadata": {
      "needs_background": "light"
     },
     "output_type": "display_data"
    }
   ],
   "source": [
    "t=Text(tokens)\n",
    "t.plot(1000)"
   ]
  },
  {
   "cell_type": "code",
   "execution_count": 95,
   "metadata": {},
   "outputs": [
    {
     "data": {
      "text/plain": [
       "604384"
      ]
     },
     "execution_count": 95,
     "metadata": {},
     "output_type": "execute_result"
    }
   ],
   "source": [
    "len(tokens)"
   ]
  },
  {
   "cell_type": "code",
   "execution_count": 22,
   "metadata": {},
   "outputs": [
    {
     "data": {
      "text/html": [
       "<div>\n",
       "<style scoped>\n",
       "    .dataframe tbody tr th:only-of-type {\n",
       "        vertical-align: middle;\n",
       "    }\n",
       "\n",
       "    .dataframe tbody tr th {\n",
       "        vertical-align: top;\n",
       "    }\n",
       "\n",
       "    .dataframe thead th {\n",
       "        text-align: right;\n",
       "    }\n",
       "</style>\n",
       "<table border=\"1\" class=\"dataframe\">\n",
       "  <thead>\n",
       "    <tr style=\"text-align: right;\">\n",
       "      <th></th>\n",
       "      <th>text</th>\n",
       "      <th>label</th>\n",
       "    </tr>\n",
       "  </thead>\n",
       "  <tbody>\n",
       "    <tr>\n",
       "      <th>127</th>\n",
       "      <td>damage severe flooding hit north georgia lands...</td>\n",
       "      <td>LANDSLIDE</td>\n",
       "    </tr>\n",
       "    <tr>\n",
       "      <th>189</th>\n",
       "      <td>dtn indonesia search ambon landslide victims c...</td>\n",
       "      <td>LANDSLIDE</td>\n",
       "    </tr>\n",
       "    <tr>\n",
       "      <th>239</th>\n",
       "      <td>landslide myanmar myanmar floods leave 33000 c...</td>\n",
       "      <td>LANDSLIDE</td>\n",
       "    </tr>\n",
       "    <tr>\n",
       "      <th>743</th>\n",
       "      <td>trowafoxg landslide indonesia kills four burie...</td>\n",
       "      <td>LANDSLIDE</td>\n",
       "    </tr>\n",
       "    <tr>\n",
       "      <th>748</th>\n",
       "      <td>landslide india uttarakhand floods u00e2 u20ac...</td>\n",
       "      <td>LANDSLIDE</td>\n",
       "    </tr>\n",
       "  </tbody>\n",
       "</table>\n",
       "</div>"
      ],
      "text/plain": [
       "                                                  text      label\n",
       "127  damage severe flooding hit north georgia lands...  LANDSLIDE\n",
       "189  dtn indonesia search ambon landslide victims c...  LANDSLIDE\n",
       "239  landslide myanmar myanmar floods leave 33000 c...  LANDSLIDE\n",
       "743  trowafoxg landslide indonesia kills four burie...  LANDSLIDE\n",
       "748  landslide india uttarakhand floods u00e2 u20ac...  LANDSLIDE"
      ]
     },
     "execution_count": 22,
     "metadata": {},
     "output_type": "execute_result"
    }
   ],
   "source": [
    "data.head()"
   ]
  },
  {
   "cell_type": "code",
   "execution_count": 75,
   "metadata": {},
   "outputs": [],
   "source": [
    "max_fatures = 50000\n",
    "tokenizer = Tokenizer(nb_words=max_fatures, split=' ')\n",
    "tokenizer.fit_on_texts(data['text'].values)"
   ]
  },
  {
   "cell_type": "code",
   "execution_count": 76,
   "metadata": {},
   "outputs": [],
   "source": [
    "#tokenizer.word_index[\"damage\"]"
   ]
  },
  {
   "cell_type": "code",
   "execution_count": 77,
   "metadata": {},
   "outputs": [],
   "source": [
    "X = tokenizer.texts_to_sequences(data['text'].values)\n",
    "X = pad_sequences(X, padding = 'post')"
   ]
  },
  {
   "cell_type": "code",
   "execution_count": 78,
   "metadata": {},
   "outputs": [
    {
     "data": {
      "text/plain": [
       "3458"
      ]
     },
     "execution_count": 78,
     "metadata": {},
     "output_type": "execute_result"
    }
   ],
   "source": [
    "len(X[0])"
   ]
  },
  {
   "cell_type": "code",
   "execution_count": 99,
   "metadata": {},
   "outputs": [],
   "source": [
    "le = preprocessing.LabelEncoder()\n",
    "y = data['label'].tolist()\n",
    "Y = le.fit_transform(y)\n",
    "Y = to_categorical(Y)"
   ]
  },
  {
   "cell_type": "code",
   "execution_count": 100,
   "metadata": {},
   "outputs": [],
   "source": [
    "embed_dim = 500\n",
    "hidden_layer = 100"
   ]
  },
  {
   "cell_type": "code",
   "execution_count": 101,
   "metadata": {},
   "outputs": [
    {
     "name": "stderr",
     "output_type": "stream",
     "text": [
      "/home/aindriya/.local/lib/python3.5/site-packages/ipykernel_launcher.py:2: UserWarning: The `dropout` argument is no longer support in `Embedding`. You can apply a `keras.layers.SpatialDropout1D` layer right after the `Embedding` layer to get the same behavior.\n",
      "  \n"
     ]
    },
    {
     "name": "stdout",
     "output_type": "stream",
     "text": [
      "_________________________________________________________________\n",
      "Layer (type)                 Output Shape              Param #   \n",
      "=================================================================\n",
      "embedding_3 (Embedding)      (None, 3458, 500)         302192000 \n",
      "_________________________________________________________________\n",
      "simple_rnn_3 (SimpleRNN)     (None, 100)               60100     \n",
      "_________________________________________________________________\n",
      "dense_3 (Dense)              (None, 2)                 202       \n",
      "=================================================================\n",
      "Total params: 302,252,302\n",
      "Trainable params: 302,252,302\n",
      "Non-trainable params: 0\n",
      "_________________________________________________________________\n",
      "None\n"
     ]
    }
   ],
   "source": [
    "model = Sequential()\n",
    "model.add(Embedding(max_fatures, embed_dim,input_length = X.shape[1], dropout=0.2))\n",
    "#model.add(SimpleRNN(hidden_layer, dropout_U=0.2, dropout_W=0.2))\n",
    "model.add(SimpleRNN(hidden_layer))\n",
    "model.add(Dense(2,activation='softmax'))\n",
    "model.compile(loss = 'categorical_crossentropy', optimizer='adam',metrics = ['accuracy'])\n",
    "print(model.summary())"
   ]
  },
  {
   "cell_type": "code",
   "execution_count": 102,
   "metadata": {},
   "outputs": [
    {
     "name": "stdout",
     "output_type": "stream",
     "text": [
      "(23769, 3458) (23769, 2)\n",
      "(10187, 3458) (10187, 2)\n"
     ]
    }
   ],
   "source": [
    "X_train, X_test, Y_train, Y_test = train_test_split(X,Y, test_size = 0.30, random_state = 42)\n",
    "print(X_train.shape,Y_train.shape)\n",
    "print(X_test.shape,Y_test.shape)"
   ]
  },
  {
   "cell_type": "code",
   "execution_count": null,
   "metadata": {},
   "outputs": [
    {
     "name": "stderr",
     "output_type": "stream",
     "text": [
      "/home/aindriya/.local/lib/python3.5/site-packages/tensorflow/python/ops/gradients_impl.py:105: UserWarning: Converting sparse IndexedSlices to a dense Tensor with 302192000 elements. This may consume a large amount of memory.\n",
      "  num_elements)\n"
     ]
    },
    {
     "name": "stdout",
     "output_type": "stream",
     "text": [
      "Epoch 1/10\n"
     ]
    }
   ],
   "source": [
    "batch_size = 32\n",
    "model.fit(X_train, Y_train, epochs = 10, batch_size=batch_size)"
   ]
  },
  {
   "cell_type": "code",
   "execution_count": null,
   "metadata": {},
   "outputs": [],
   "source": [
    "score,acc = model.evaluate(X_test, Y_test, verbose = 2, batch_size = batch_size)\n",
    "print(\"score: %.4f\" % (score))\n",
    "print(\"acc: %.2f\" % (acc*100))"
   ]
  },
  {
   "cell_type": "code",
   "execution_count": null,
   "metadata": {},
   "outputs": [],
   "source": [
    "test = data['text'][0]\n",
    "test = tweet_to_words(test)\n",
    "test = test.replace('rt ','')\n",
    "test = [test]\n",
    "test = tokenizer.texts_to_sequences(test)\n",
    "test = pad_sequences(test, maxlen=24, padding = 'post')"
   ]
  },
  {
   "cell_type": "code",
   "execution_count": null,
   "metadata": {},
   "outputs": [],
   "source": [
    "class_label = model.predict_classes(test)\n",
    "print(le.inverse_transform(class_label))"
   ]
  },
  {
   "cell_type": "code",
   "execution_count": null,
   "metadata": {},
   "outputs": [],
   "source": [
    "model.predict(test)"
   ]
  },
  {
   "cell_type": "code",
   "execution_count": null,
   "metadata": {},
   "outputs": [],
   "source": [
    "from keras import backend as K\n",
    "\n",
    "get_layer_output = K.function([model.layers[0].input],\n",
    "                                  [model.layers[0].output])\n",
    "layer_output = get_layer_output([X])[0]"
   ]
  },
  {
   "cell_type": "code",
   "execution_count": null,
   "metadata": {},
   "outputs": [],
   "source": [
    "print(layer_output)"
   ]
  }
 ],
 "metadata": {
  "kernelspec": {
   "display_name": "Python 3",
   "language": "python",
   "name": "python3"
  },
  "language_info": {
   "codemirror_mode": {
    "name": "ipython",
    "version": 3
   },
   "file_extension": ".py",
   "mimetype": "text/x-python",
   "name": "python",
   "nbconvert_exporter": "python",
   "pygments_lexer": "ipython3",
   "version": "3.5.2"
  }
 },
 "nbformat": 4,
 "nbformat_minor": 2
}
